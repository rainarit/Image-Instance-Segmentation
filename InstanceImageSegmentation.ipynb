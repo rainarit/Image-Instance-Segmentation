{
 "cells": [
  {
   "cell_type": "code",
   "execution_count": 7,
   "metadata": {},
   "outputs": [],
   "source": [
    "# import the necessary packages\n",
    "import numpy as np\n",
    "import argparse\n",
    "import imutils\n",
    "import time\n",
    "import cv2\n",
    "import os\n",
    "from imutils.video import VideoStream"
   ]
  },
  {
   "cell_type": "code",
   "execution_count": 8,
   "metadata": {},
   "outputs": [],
   "source": [
    "# # construct the argument parse and parse the arguments\n",
    "# ap = argparse.ArgumentParser()\n",
    "# ap.add_argument(\"-i\", \"--input\", required=True,\n",
    "# \thelp=\"path to input video file\")\n",
    "# ap.add_argument(\"-o\", \"--output\", required=True,\n",
    "# \thelp=\"path to output video file\")\n",
    "# ap.add_argument(\"-m\", \"--mask-rcnn\", required=True,\n",
    "# \thelp=\"base path to mask-rcnn directory\")\n",
    "# ap.add_argument(\"-c\", \"--confidence\", type=float, default=0.5,\n",
    "# \thelp=\"minimum probability to filter weak detections\")\n",
    "# ap.add_argument(\"-t\", \"--threshold\", type=float, default=0.3,\n",
    "# \thelp=\"minimum threshold for pixel-wise mask segmentation\")\n",
    "# args = vars(ap.parse_args())"
   ]
  },
  {
   "cell_type": "code",
   "execution_count": 9,
   "metadata": {},
   "outputs": [
    {
     "name": "stdout",
     "output_type": "stream",
     "text": [
      "[INFO] loading Mask R-CNN from disk...\n"
     ]
    }
   ],
   "source": [
    "# load the COCO class labels our Mask R-CNN was trained on\n",
    "labelsPath = os.path.sep.join([\"/Users/rraina/Desktop/INTERNSHIP 2019/ImageSegmentation/mrcnn\",\n",
    "\t\"object_detection_classes_coco.txt\"])\n",
    "LABELS = open(labelsPath).read().strip().split(\"\\n\")\n",
    " \n",
    "# initialize a list of colors to represent each possible class label\n",
    "np.random.seed(42)\n",
    "COLORS = np.random.randint(0, 255, size=(len(LABELS), 3),\n",
    "\tdtype=\"uint8\")\n",
    " \n",
    "# derive the paths to the Mask R-CNN weights and model configuration\n",
    "weightsPath = os.path.sep.join([\"/Users/rraina/Desktop/INTERNSHIP 2019/ImageSegmentation/mrcnn\",\n",
    "\t\"frozen_inference_graph.pb\"])\n",
    "configPath = os.path.sep.join([\"/Users/rraina/Desktop/INTERNSHIP 2019/ImageSegmentation/mrcnn\",\n",
    "\t\"mask_rcnn_inception_v2_coco_2018_01_28.pbtxt\"])\n",
    " \n",
    "# load our Mask R-CNN trained on the COCO dataset (90 classes)\n",
    "# from disk\n",
    "print(\"[INFO] loading Mask R-CNN from disk...\")\n",
    "net = cv2.dnn.readNetFromTensorflow(weightsPath, configPath)"
   ]
  },
  {
   "cell_type": "code",
   "execution_count": 10,
   "metadata": {},
   "outputs": [
    {
     "name": "stdout",
     "output_type": "stream",
     "text": [
      "[INFO] 1796 total frames in video\n"
     ]
    }
   ],
   "source": [
    "# initialize the video stream and pointer to output video file\n",
    "vs = cv2.VideoCapture(\"/Users/rraina/Desktop/INTERNSHIP 2019/ImageSegmentation/cars.mp4\")\n",
    "writer = None\n",
    " \n",
    "# try to determine the total number of frames in the video file\n",
    "try:\n",
    "\tprop = cv2.cv.CV_CAP_PROP_FRAME_COUNT if imutils.is_cv2() \\\n",
    "\t\telse cv2.CAP_PROP_FRAME_COUNT\n",
    "\ttotal = int(vs.get(prop))\n",
    "\tprint(\"[INFO] {} total frames in video\".format(total))\n",
    " \n",
    "# an error occurred while trying to determine the total\n",
    "# number of frames in the video file\n",
    "except:\n",
    "\tprint(\"[INFO] could not determine # of frames in video\")\n",
    "\ttotal = -1"
   ]
  },
  {
   "cell_type": "code",
   "execution_count": 11,
   "metadata": {},
   "outputs": [
    {
     "name": "stdout",
     "output_type": "stream",
     "text": [
      "[INFO] single frame took 1.3542 seconds\n",
      "[INFO] estimated total time to finish: 2432.2261\n"
     ]
    }
   ],
   "source": [
    "# loop over frames from the video file stream\n",
    "while True:\n",
    "\t# read the next frame from the file\n",
    "\t(grabbed, frame) = vs.read()\n",
    " \n",
    "\t# if the frame was not grabbed, then we have reached the end\n",
    "\t# of the stream\n",
    "\tif not grabbed:\n",
    "\t\tbreak\n",
    " \n",
    "\t# construct a blob from the input frame and then perform a\n",
    "\t# forward pass of the Mask R-CNN, giving us (1) the bounding box\n",
    "\t# coordinates of the objects in the image along with (2) the\n",
    "\t# pixel-wise segmentation for each specific object\n",
    "\tblob = cv2.dnn.blobFromImage(frame, swapRB=True, crop=False)\n",
    "\tnet.setInput(blob)\n",
    "\tstart = time.time()\n",
    "\t(boxes, masks) = net.forward([\"detection_out_final\",\n",
    "\t\t\"detection_masks\"])\n",
    "\tend = time.time()\n",
    "    \n",
    "\t# loop over the number of detected objects\n",
    "\tfor i in range(0, boxes.shape[2]):\n",
    "\t\t# extract the class ID of the detection along with the\n",
    "\t\t# confidence (i.e., probability) associated with the\n",
    "\t\t# prediction\n",
    "\t\tclassID = int(boxes[0, 0, i, 1])\n",
    "\t\tconfidence = boxes[0, 0, i, 2]\n",
    " \n",
    "\t\t# filter out weak predictions by ensuring the detected\n",
    "\t\t# probability is greater than the minimum probability\n",
    "\t\tif confidence > 0.6:\n",
    "\t\t\t# scale the bounding box coordinates back relative to the\n",
    "\t\t\t# size of the frame and then compute the width and the\n",
    "\t\t\t# height of the bounding box\n",
    "\t\t\t(H, W) = frame.shape[:2]\n",
    "\t\t\tbox = boxes[0, 0, i, 3:7] * np.array([W, H, W, H])\n",
    "\t\t\t(startX, startY, endX, endY) = box.astype(\"int\")\n",
    "\t\t\tboxW = endX - startX\n",
    "\t\t\tboxH = endY - startY\n",
    " \n",
    "\t\t\t# extract the pixel-wise segmentation for the object,\n",
    "\t\t\t# resize the mask such that it's the same dimensions of\n",
    "\t\t\t# the bounding box, and then finally threshold to create\n",
    "\t\t\t# a *binary* mask\n",
    "\t\t\tmask = masks[i, classID]\n",
    "\t\t\tmask = cv2.resize(mask, (boxW, boxH),\n",
    "\t\t\t\tinterpolation=cv2.INTER_NEAREST)\n",
    "\t\t\tmask = (mask > 0.3)\n",
    " \n",
    "\t\t\t# extract the ROI of the image but *only* extracted the\n",
    "\t\t\t# masked region of the ROI\n",
    "\t\t\troi = frame[startY:endY, startX:endX][mask]\n",
    "            \n",
    "\t\t\t# grab the color used to visualize this particular class,\n",
    "\t\t\t# then create a transparent overlay by blending the color\n",
    "\t\t\t# with the ROI\n",
    "\t\t\tcolor = COLORS[classID]\n",
    "\t\t\tblended = ((0.4 * color) + (0.6 * roi)).astype(\"uint8\")\n",
    "\n",
    "\t\t\t# store the blended ROI in the original frame\n",
    "\t\t\tframe[startY:endY, startX:endX][mask] = blended\n",
    "\n",
    "\t\t\t# draw the bounding box of the instance on the frame\n",
    "\t\t\tcolor = [int(c) for c in color]\n",
    "\t\t\tcv2.rectangle(frame, (startX, startY), (endX, endY),\n",
    "\t\t\t\tcolor, 2)\n",
    "\n",
    "\t\t\t# draw the predicted label and associated probability of\n",
    "\t\t\t# the instance segmentation on the frame\n",
    "\t\t\ttext = \"{}: {:.4f}\".format(LABELS[classID], confidence)\n",
    "\t\t\tcv2.putText(frame, text, (startX, startY - 5),\n",
    "\t\t\t\tcv2.FONT_HERSHEY_SIMPLEX, 0.5, color, 2)\n",
    "\n",
    "\t\t\t# grab the color used to visualize this particular class,\n",
    "\t\t\t# then create a transparent overlay by blending the color\n",
    "\t\t\t# with the ROI\n",
    "\t\t\tcolor = COLORS[classID]\n",
    "\t\t\tblended = ((0.4 * color) + (0.6 * roi)).astype(\"uint8\")\n",
    " \n",
    "\t\t\t# store the blended ROI in the original frame\n",
    "\t\t\tframe[startY:endY, startX:endX][mask] = blended\n",
    " \n",
    "\t\t\t# draw the bounding box of the instance on the frame\n",
    "\t\t\tcolor = [int(c) for c in color]\n",
    "\t\t\tcv2.rectangle(frame, (startX, startY), (endX, endY),\n",
    "\t\t\t\tcolor, 2)\n",
    " \n",
    "\t\t\t# draw the predicted label and associated probability of\n",
    "\t\t\t# the instance segmentation on the frame\n",
    "\t\t\ttext = \"{}: {:.4f}\".format(LABELS[classID], confidence)\n",
    "\t\t\tcv2.putText(frame, text, (startX, startY - 5),\n",
    "\t\t\t\tcv2.FONT_HERSHEY_SIMPLEX, 0.5, color, 2)\n",
    "\n",
    "\t# check if the video writer is None\n",
    "\tif writer is None:\n",
    "\t\t# initialize our video writer\n",
    "\t\tfourcc = cv2.VideoWriter_fourcc(*\"MJPG\")\n",
    "\t\twriter = cv2.VideoWriter(\"/Users/rraina/Desktop/INTERNSHIP 2019/ImageSegmentation/cars_segmented.mp4\", fourcc, 30,\n",
    "\t\t\t(frame.shape[1], frame.shape[0]), True)\n",
    " \n",
    "\t\t# some information on processing single frame\n",
    "\t\tif total > 0:\n",
    "\t\t\telap = (end - start)\n",
    "\t\t\tprint(\"[INFO] single frame took {:.4f} seconds\".format(elap))\n",
    "\t\t\tprint(\"[INFO] estimated total time to finish: {:.4f}\".format(\n",
    "\t\t\t\telap * total))\n",
    " \n",
    "\t# write the output frame to disk\n",
    "\twriter.write(frame)"
   ]
  },
  {
   "cell_type": "code",
   "execution_count": 12,
   "metadata": {},
   "outputs": [
    {
     "name": "stdout",
     "output_type": "stream",
     "text": [
      "[INFO] cleaning up...\n"
     ]
    }
   ],
   "source": [
    "# release the file pointers\n",
    "print(\"[INFO] cleaning up...\")\n",
    "writer.release()\n",
    "vs.release()"
   ]
  },
  {
   "cell_type": "code",
   "execution_count": null,
   "metadata": {},
   "outputs": [],
   "source": []
  },
  {
   "cell_type": "code",
   "execution_count": null,
   "metadata": {},
   "outputs": [],
   "source": []
  },
  {
   "cell_type": "code",
   "execution_count": null,
   "metadata": {},
   "outputs": [],
   "source": []
  }
 ],
 "metadata": {
  "kernelspec": {
   "display_name": "Python 3",
   "language": "python",
   "name": "python3"
  },
  "language_info": {
   "codemirror_mode": {
    "name": "ipython",
    "version": 3
   },
   "file_extension": ".py",
   "mimetype": "text/x-python",
   "name": "python",
   "nbconvert_exporter": "python",
   "pygments_lexer": "ipython3",
   "version": "3.7.4"
  }
 },
 "nbformat": 4,
 "nbformat_minor": 2
}
